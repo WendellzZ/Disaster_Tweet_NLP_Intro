{
 "cells": [
  {
   "cell_type": "code",
   "execution_count": 1,
   "id": "0cf8830d",
   "metadata": {
    "_cell_guid": "b1076dfc-b9ad-4769-8c92-a6c4dae69d19",
    "_uuid": "8f2839f25d086af736a60e9eeb907d3b93b6e0e5",
    "execution": {
     "iopub.execute_input": "2022-06-01T21:39:52.134596Z",
     "iopub.status.busy": "2022-06-01T21:39:52.134182Z",
     "iopub.status.idle": "2022-06-01T21:39:52.145415Z",
     "shell.execute_reply": "2022-06-01T21:39:52.144445Z"
    },
    "papermill": {
     "duration": 0.019008,
     "end_time": "2022-06-01T21:39:52.147557",
     "exception": false,
     "start_time": "2022-06-01T21:39:52.128549",
     "status": "completed"
    },
    "tags": []
   },
   "outputs": [
    {
     "name": "stdout",
     "output_type": "stream",
     "text": [
      "/kaggle/input/nlp-getting-started/sample_submission.csv\n",
      "/kaggle/input/nlp-getting-started/train.csv\n",
      "/kaggle/input/nlp-getting-started/test.csv\n"
     ]
    }
   ],
   "source": [
    "# This Python 3 environment comes with many helpful analytics libraries installed\n",
    "# It is defined by the kaggle/python Docker image: https://github.com/kaggle/docker-python\n",
    "# For example, here's several helpful packages to load\n",
    "\n",
    "import numpy as np # linear algebra\n",
    "import pandas as pd # data processing, CSV file I/O (e.g. pd.read_csv)\n",
    "\n",
    "# Input data files are available in the read-only \"../input/\" directory\n",
    "# For example, running this (by clicking run or pressing Shift+Enter) will list all files under the input directory\n",
    "\n",
    "import os\n",
    "for dirname, _, filenames in os.walk('/kaggle/input'):\n",
    "    for filename in filenames:\n",
    "        print(os.path.join(dirname, filename))\n",
    "\n",
    "# You can write up to 20GB to the current directory (/kaggle/working/) that gets preserved as output when you create a version using \"Save & Run All\" \n",
    "# You can also write temporary files to /kaggle/temp/, but they won't be saved outside of the current session"
   ]
  },
  {
   "cell_type": "code",
   "execution_count": 2,
   "id": "3d90b85d",
   "metadata": {
    "execution": {
     "iopub.execute_input": "2022-06-01T21:39:52.157703Z",
     "iopub.status.busy": "2022-06-01T21:39:52.157374Z",
     "iopub.status.idle": "2022-06-01T21:39:52.223019Z",
     "shell.execute_reply": "2022-06-01T21:39:52.221912Z"
    },
    "papermill": {
     "duration": 0.072411,
     "end_time": "2022-06-01T21:39:52.225577",
     "exception": false,
     "start_time": "2022-06-01T21:39:52.153166",
     "status": "completed"
    },
    "tags": []
   },
   "outputs": [
    {
     "data": {
      "text/html": [
       "<div>\n",
       "<style scoped>\n",
       "    .dataframe tbody tr th:only-of-type {\n",
       "        vertical-align: middle;\n",
       "    }\n",
       "\n",
       "    .dataframe tbody tr th {\n",
       "        vertical-align: top;\n",
       "    }\n",
       "\n",
       "    .dataframe thead th {\n",
       "        text-align: right;\n",
       "    }\n",
       "</style>\n",
       "<table border=\"1\" class=\"dataframe\">\n",
       "  <thead>\n",
       "    <tr style=\"text-align: right;\">\n",
       "      <th></th>\n",
       "      <th>id</th>\n",
       "      <th>keyword</th>\n",
       "      <th>location</th>\n",
       "      <th>text</th>\n",
       "      <th>target</th>\n",
       "    </tr>\n",
       "  </thead>\n",
       "  <tbody>\n",
       "    <tr>\n",
       "      <th>0</th>\n",
       "      <td>1</td>\n",
       "      <td>NaN</td>\n",
       "      <td>NaN</td>\n",
       "      <td>Our Deeds are the Reason of this #earthquake M...</td>\n",
       "      <td>1</td>\n",
       "    </tr>\n",
       "    <tr>\n",
       "      <th>1</th>\n",
       "      <td>4</td>\n",
       "      <td>NaN</td>\n",
       "      <td>NaN</td>\n",
       "      <td>Forest fire near La Ronge Sask. Canada</td>\n",
       "      <td>1</td>\n",
       "    </tr>\n",
       "    <tr>\n",
       "      <th>2</th>\n",
       "      <td>5</td>\n",
       "      <td>NaN</td>\n",
       "      <td>NaN</td>\n",
       "      <td>All residents asked to 'shelter in place' are ...</td>\n",
       "      <td>1</td>\n",
       "    </tr>\n",
       "    <tr>\n",
       "      <th>3</th>\n",
       "      <td>6</td>\n",
       "      <td>NaN</td>\n",
       "      <td>NaN</td>\n",
       "      <td>13,000 people receive #wildfires evacuation or...</td>\n",
       "      <td>1</td>\n",
       "    </tr>\n",
       "    <tr>\n",
       "      <th>4</th>\n",
       "      <td>7</td>\n",
       "      <td>NaN</td>\n",
       "      <td>NaN</td>\n",
       "      <td>Just got sent this photo from Ruby #Alaska as ...</td>\n",
       "      <td>1</td>\n",
       "    </tr>\n",
       "  </tbody>\n",
       "</table>\n",
       "</div>"
      ],
      "text/plain": [
       "   id keyword location                                               text  \\\n",
       "0   1     NaN      NaN  Our Deeds are the Reason of this #earthquake M...   \n",
       "1   4     NaN      NaN             Forest fire near La Ronge Sask. Canada   \n",
       "2   5     NaN      NaN  All residents asked to 'shelter in place' are ...   \n",
       "3   6     NaN      NaN  13,000 people receive #wildfires evacuation or...   \n",
       "4   7     NaN      NaN  Just got sent this photo from Ruby #Alaska as ...   \n",
       "\n",
       "   target  \n",
       "0       1  \n",
       "1       1  \n",
       "2       1  \n",
       "3       1  \n",
       "4       1  "
      ]
     },
     "execution_count": 2,
     "metadata": {},
     "output_type": "execute_result"
    }
   ],
   "source": [
    "# get the training data\n",
    "trainData = pd.read_csv('/kaggle/input/nlp-getting-started/train.csv')\n",
    "trainData.head()\n"
   ]
  },
  {
   "cell_type": "code",
   "execution_count": 3,
   "id": "dd1536d7",
   "metadata": {
    "execution": {
     "iopub.execute_input": "2022-06-01T21:39:52.236915Z",
     "iopub.status.busy": "2022-06-01T21:39:52.236536Z",
     "iopub.status.idle": "2022-06-01T21:39:52.272124Z",
     "shell.execute_reply": "2022-06-01T21:39:52.271258Z"
    },
    "papermill": {
     "duration": 0.0431,
     "end_time": "2022-06-01T21:39:52.274419",
     "exception": false,
     "start_time": "2022-06-01T21:39:52.231319",
     "status": "completed"
    },
    "tags": []
   },
   "outputs": [
    {
     "data": {
      "text/html": [
       "<div>\n",
       "<style scoped>\n",
       "    .dataframe tbody tr th:only-of-type {\n",
       "        vertical-align: middle;\n",
       "    }\n",
       "\n",
       "    .dataframe tbody tr th {\n",
       "        vertical-align: top;\n",
       "    }\n",
       "\n",
       "    .dataframe thead th {\n",
       "        text-align: right;\n",
       "    }\n",
       "</style>\n",
       "<table border=\"1\" class=\"dataframe\">\n",
       "  <thead>\n",
       "    <tr style=\"text-align: right;\">\n",
       "      <th></th>\n",
       "      <th>id</th>\n",
       "      <th>keyword</th>\n",
       "      <th>location</th>\n",
       "      <th>text</th>\n",
       "    </tr>\n",
       "  </thead>\n",
       "  <tbody>\n",
       "    <tr>\n",
       "      <th>0</th>\n",
       "      <td>0</td>\n",
       "      <td>NaN</td>\n",
       "      <td>NaN</td>\n",
       "      <td>Just happened a terrible car crash</td>\n",
       "    </tr>\n",
       "    <tr>\n",
       "      <th>1</th>\n",
       "      <td>2</td>\n",
       "      <td>NaN</td>\n",
       "      <td>NaN</td>\n",
       "      <td>Heard about #earthquake is different cities, s...</td>\n",
       "    </tr>\n",
       "    <tr>\n",
       "      <th>2</th>\n",
       "      <td>3</td>\n",
       "      <td>NaN</td>\n",
       "      <td>NaN</td>\n",
       "      <td>there is a forest fire at spot pond, geese are...</td>\n",
       "    </tr>\n",
       "    <tr>\n",
       "      <th>3</th>\n",
       "      <td>9</td>\n",
       "      <td>NaN</td>\n",
       "      <td>NaN</td>\n",
       "      <td>Apocalypse lighting. #Spokane #wildfires</td>\n",
       "    </tr>\n",
       "    <tr>\n",
       "      <th>4</th>\n",
       "      <td>11</td>\n",
       "      <td>NaN</td>\n",
       "      <td>NaN</td>\n",
       "      <td>Typhoon Soudelor kills 28 in China and Taiwan</td>\n",
       "    </tr>\n",
       "  </tbody>\n",
       "</table>\n",
       "</div>"
      ],
      "text/plain": [
       "   id keyword location                                               text\n",
       "0   0     NaN      NaN                 Just happened a terrible car crash\n",
       "1   2     NaN      NaN  Heard about #earthquake is different cities, s...\n",
       "2   3     NaN      NaN  there is a forest fire at spot pond, geese are...\n",
       "3   9     NaN      NaN           Apocalypse lighting. #Spokane #wildfires\n",
       "4  11     NaN      NaN      Typhoon Soudelor kills 28 in China and Taiwan"
      ]
     },
     "execution_count": 3,
     "metadata": {},
     "output_type": "execute_result"
    }
   ],
   "source": [
    "# get the testing data\n",
    "testData = pd.read_csv('/kaggle/input/nlp-getting-started/test.csv')\n",
    "testData.head()"
   ]
  },
  {
   "cell_type": "code",
   "execution_count": 4,
   "id": "0553ced4",
   "metadata": {
    "execution": {
     "iopub.execute_input": "2022-06-01T21:39:52.283915Z",
     "iopub.status.busy": "2022-06-01T21:39:52.283291Z",
     "iopub.status.idle": "2022-06-01T21:39:53.428857Z",
     "shell.execute_reply": "2022-06-01T21:39:53.427918Z"
    },
    "papermill": {
     "duration": 1.15294,
     "end_time": "2022-06-01T21:39:53.431213",
     "exception": false,
     "start_time": "2022-06-01T21:39:52.278273",
     "status": "completed"
    },
    "tags": []
   },
   "outputs": [],
   "source": [
    "# build the model of feature extract using sklearn\n",
    "from sklearn import feature_extraction, linear_model, model_selection, preprocessing\n",
    "count_vectorizer = feature_extraction.text.CountVectorizer()\n",
    "example_train_vectors = count_vectorizer.fit_transform(trainData['text'][0:5])"
   ]
  },
  {
   "cell_type": "code",
   "execution_count": 5,
   "id": "1759b324",
   "metadata": {
    "execution": {
     "iopub.execute_input": "2022-06-01T21:39:53.439869Z",
     "iopub.status.busy": "2022-06-01T21:39:53.439050Z",
     "iopub.status.idle": "2022-06-01T21:39:53.444996Z",
     "shell.execute_reply": "2022-06-01T21:39:53.444039Z"
    },
    "papermill": {
     "duration": 0.013177,
     "end_time": "2022-06-01T21:39:53.447845",
     "exception": false,
     "start_time": "2022-06-01T21:39:53.434668",
     "status": "completed"
    },
    "tags": []
   },
   "outputs": [
    {
     "name": "stdout",
     "output_type": "stream",
     "text": [
      "(1, 54)\n",
      "[[0 0 0 1 1 1 0 0 0 0 0 0 1 1 0 0 0 0 1 0 0 0 0 0 0 1 0 0 0 1 0 0 0 0 1 0\n",
      "  0 0 0 1 0 0 0 0 0 0 0 0 0 1 1 0 1 0]]\n"
     ]
    }
   ],
   "source": [
    "# reveal the structure of the results of teh \n",
    "print(example_train_vectors[0].todense().shape)\n",
    "print(example_train_vectors[0].todense())\n"
   ]
  },
  {
   "cell_type": "code",
   "execution_count": 6,
   "id": "9bc5aef8",
   "metadata": {
    "execution": {
     "iopub.execute_input": "2022-06-01T21:39:53.458561Z",
     "iopub.status.busy": "2022-06-01T21:39:53.457449Z",
     "iopub.status.idle": "2022-06-01T21:39:53.945527Z",
     "shell.execute_reply": "2022-06-01T21:39:53.944576Z"
    },
    "papermill": {
     "duration": 0.494608,
     "end_time": "2022-06-01T21:39:53.947570",
     "exception": false,
     "start_time": "2022-06-01T21:39:53.452962",
     "status": "completed"
    },
    "tags": []
   },
   "outputs": [
    {
     "name": "stdout",
     "output_type": "stream",
     "text": [
      "(7613, 21637)\n"
     ]
    }
   ],
   "source": [
    "# create vectors for all the tweets\n",
    "train_vec = count_vectorizer.fit_transform(trainData['text'])\n",
    "# modify the testdata\n",
    "test_vec = count_vectorizer.transform(testData['text'])\n",
    "print(train_vec.todense().shape)"
   ]
  },
  {
   "cell_type": "code",
   "execution_count": 7,
   "id": "06a235e3",
   "metadata": {
    "execution": {
     "iopub.execute_input": "2022-06-01T21:39:53.955997Z",
     "iopub.status.busy": "2022-06-01T21:39:53.955335Z",
     "iopub.status.idle": "2022-06-01T21:39:53.959709Z",
     "shell.execute_reply": "2022-06-01T21:39:53.958846Z"
    },
    "papermill": {
     "duration": 0.010593,
     "end_time": "2022-06-01T21:39:53.961695",
     "exception": false,
     "start_time": "2022-06-01T21:39:53.951102",
     "status": "completed"
    },
    "tags": []
   },
   "outputs": [],
   "source": [
    "# model selection\n",
    "clf = linear_model.RidgeClassifier()\n"
   ]
  },
  {
   "cell_type": "code",
   "execution_count": 8,
   "id": "04f25c13",
   "metadata": {
    "execution": {
     "iopub.execute_input": "2022-06-01T21:39:53.970403Z",
     "iopub.status.busy": "2022-06-01T21:39:53.969578Z",
     "iopub.status.idle": "2022-06-01T21:39:54.360757Z",
     "shell.execute_reply": "2022-06-01T21:39:54.359892Z"
    },
    "papermill": {
     "duration": 0.398468,
     "end_time": "2022-06-01T21:39:54.363650",
     "exception": false,
     "start_time": "2022-06-01T21:39:53.965182",
     "status": "completed"
    },
    "tags": []
   },
   "outputs": [
    {
     "data": {
      "text/plain": [
       "array([0.59421842, 0.56498283, 0.64113893])"
      ]
     },
     "execution_count": 8,
     "metadata": {},
     "output_type": "execute_result"
    }
   ],
   "source": [
    "# cross-validation is used in this model to verify the model run\n",
    "scores = model_selection.cross_val_score(clf,train_vec,trainData['target'],cv=3,scoring='f1')\n",
    "scores"
   ]
  },
  {
   "cell_type": "code",
   "execution_count": 9,
   "id": "555b8568",
   "metadata": {
    "execution": {
     "iopub.execute_input": "2022-06-01T21:39:54.379359Z",
     "iopub.status.busy": "2022-06-01T21:39:54.378747Z",
     "iopub.status.idle": "2022-06-01T21:39:54.584649Z",
     "shell.execute_reply": "2022-06-01T21:39:54.583530Z"
    },
    "papermill": {
     "duration": 0.217823,
     "end_time": "2022-06-01T21:39:54.588237",
     "exception": false,
     "start_time": "2022-06-01T21:39:54.370414",
     "status": "completed"
    },
    "tags": []
   },
   "outputs": [
    {
     "data": {
      "text/plain": [
       "RidgeClassifier()"
      ]
     },
     "execution_count": 9,
     "metadata": {},
     "output_type": "execute_result"
    }
   ],
   "source": [
    "# build the predictions \n",
    "clf.fit(train_vec,trainData['target'])"
   ]
  },
  {
   "cell_type": "code",
   "execution_count": 10,
   "id": "0465af29",
   "metadata": {
    "execution": {
     "iopub.execute_input": "2022-06-01T21:39:54.605176Z",
     "iopub.status.busy": "2022-06-01T21:39:54.604596Z",
     "iopub.status.idle": "2022-06-01T21:39:54.630890Z",
     "shell.execute_reply": "2022-06-01T21:39:54.629889Z"
    },
    "papermill": {
     "duration": 0.03888,
     "end_time": "2022-06-01T21:39:54.634294",
     "exception": false,
     "start_time": "2022-06-01T21:39:54.595414",
     "status": "completed"
    },
    "tags": []
   },
   "outputs": [
    {
     "data": {
      "text/html": [
       "<div>\n",
       "<style scoped>\n",
       "    .dataframe tbody tr th:only-of-type {\n",
       "        vertical-align: middle;\n",
       "    }\n",
       "\n",
       "    .dataframe tbody tr th {\n",
       "        vertical-align: top;\n",
       "    }\n",
       "\n",
       "    .dataframe thead th {\n",
       "        text-align: right;\n",
       "    }\n",
       "</style>\n",
       "<table border=\"1\" class=\"dataframe\">\n",
       "  <thead>\n",
       "    <tr style=\"text-align: right;\">\n",
       "      <th></th>\n",
       "      <th>id</th>\n",
       "      <th>target</th>\n",
       "    </tr>\n",
       "  </thead>\n",
       "  <tbody>\n",
       "    <tr>\n",
       "      <th>0</th>\n",
       "      <td>0</td>\n",
       "      <td>0</td>\n",
       "    </tr>\n",
       "    <tr>\n",
       "      <th>1</th>\n",
       "      <td>2</td>\n",
       "      <td>1</td>\n",
       "    </tr>\n",
       "    <tr>\n",
       "      <th>2</th>\n",
       "      <td>3</td>\n",
       "      <td>1</td>\n",
       "    </tr>\n",
       "    <tr>\n",
       "      <th>3</th>\n",
       "      <td>9</td>\n",
       "      <td>0</td>\n",
       "    </tr>\n",
       "    <tr>\n",
       "      <th>4</th>\n",
       "      <td>11</td>\n",
       "      <td>1</td>\n",
       "    </tr>\n",
       "  </tbody>\n",
       "</table>\n",
       "</div>"
      ],
      "text/plain": [
       "   id  target\n",
       "0   0       0\n",
       "1   2       1\n",
       "2   3       1\n",
       "3   9       0\n",
       "4  11       1"
      ]
     },
     "execution_count": 10,
     "metadata": {},
     "output_type": "execute_result"
    }
   ],
   "source": [
    "# create the submission file\n",
    "sample_submission = pd.read_csv('/kaggle/input/nlp-getting-started/sample_submission.csv')\n",
    "sample_submission['target'] = clf.predict(test_vec)\n",
    "sample_submission.head()"
   ]
  },
  {
   "cell_type": "code",
   "execution_count": 11,
   "id": "3e51d1c1",
   "metadata": {
    "execution": {
     "iopub.execute_input": "2022-06-01T21:39:54.651804Z",
     "iopub.status.busy": "2022-06-01T21:39:54.651247Z",
     "iopub.status.idle": "2022-06-01T21:39:54.670008Z",
     "shell.execute_reply": "2022-06-01T21:39:54.668946Z"
    },
    "papermill": {
     "duration": 0.030706,
     "end_time": "2022-06-01T21:39:54.673117",
     "exception": false,
     "start_time": "2022-06-01T21:39:54.642411",
     "status": "completed"
    },
    "tags": []
   },
   "outputs": [],
   "source": [
    "sample_submission.to_csv('submission.csv',index = False)"
   ]
  }
 ],
 "metadata": {
  "kernelspec": {
   "display_name": "Python 3",
   "language": "python",
   "name": "python3"
  },
  "language_info": {
   "codemirror_mode": {
    "name": "ipython",
    "version": 3
   },
   "file_extension": ".py",
   "mimetype": "text/x-python",
   "name": "python",
   "nbconvert_exporter": "python",
   "pygments_lexer": "ipython3",
   "version": "3.7.12"
  },
  "papermill": {
   "default_parameters": {},
   "duration": 11.807841,
   "end_time": "2022-06-01T21:39:55.403375",
   "environment_variables": {},
   "exception": null,
   "input_path": "__notebook__.ipynb",
   "output_path": "__notebook__.ipynb",
   "parameters": {},
   "start_time": "2022-06-01T21:39:43.595534",
   "version": "2.3.4"
  }
 },
 "nbformat": 4,
 "nbformat_minor": 5
}
